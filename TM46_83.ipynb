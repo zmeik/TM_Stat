{
 "cells": [
  {
   "cell_type": "code",
   "execution_count": 3,
   "metadata": {},
   "outputs": [],
   "source": [
    "import pandas as pd\n"
   ]
  },
  {
   "cell_type": "code",
   "execution_count": 5,
   "metadata": {},
   "outputs": [],
   "source": [
    "excel_file = 'C:\\PythonExperiments\\Toastmasters\\Book1.xlsx'\n",
    "TM = pd.read_excel(excel_file)"
   ]
  },
  {
   "cell_type": "code",
   "execution_count": 6,
   "metadata": {},
   "outputs": [
    {
     "data": {
      "text/html": [
       "<div>\n",
       "<style scoped>\n",
       "    .dataframe tbody tr th:only-of-type {\n",
       "        vertical-align: middle;\n",
       "    }\n",
       "\n",
       "    .dataframe tbody tr th {\n",
       "        vertical-align: top;\n",
       "    }\n",
       "\n",
       "    .dataframe thead th {\n",
       "        text-align: right;\n",
       "    }\n",
       "</style>\n",
       "<table border=\"1\" class=\"dataframe\">\n",
       "  <thead>\n",
       "    <tr style=\"text-align: right;\">\n",
       "      <th></th>\n",
       "      <th>Club</th>\n",
       "      <th>Division</th>\n",
       "      <th>Area</th>\n",
       "      <th>Award</th>\n",
       "      <th>Date</th>\n",
       "      <th>Member</th>\n",
       "      <th>Name</th>\n",
       "      <th>Location</th>\n",
       "    </tr>\n",
       "  </thead>\n",
       "  <tbody>\n",
       "    <tr>\n",
       "      <th>0</th>\n",
       "      <td>451</td>\n",
       "      <td>E</td>\n",
       "      <td>56</td>\n",
       "      <td>PM2</td>\n",
       "      <td>43657</td>\n",
       "      <td>Rajagopalan, Vidya</td>\n",
       "      <td>Metro New York</td>\n",
       "      <td>New York</td>\n",
       "    </tr>\n",
       "    <tr>\n",
       "      <th>1</th>\n",
       "      <td>735</td>\n",
       "      <td>F</td>\n",
       "      <td>66</td>\n",
       "      <td>ACS</td>\n",
       "      <td>43657</td>\n",
       "      <td>01598611 - Name unavailable</td>\n",
       "      <td>NYU + City Hall Toastmasters</td>\n",
       "      <td>New York</td>\n",
       "    </tr>\n",
       "    <tr>\n",
       "      <th>2</th>\n",
       "      <td>735</td>\n",
       "      <td>F</td>\n",
       "      <td>66</td>\n",
       "      <td>ALS</td>\n",
       "      <td>43670</td>\n",
       "      <td>01598611 - Name unavailable</td>\n",
       "      <td>NYU + City Hall Toastmasters</td>\n",
       "      <td>New York</td>\n",
       "    </tr>\n",
       "    <tr>\n",
       "      <th>3</th>\n",
       "      <td>735</td>\n",
       "      <td>F</td>\n",
       "      <td>66</td>\n",
       "      <td>MS1</td>\n",
       "      <td>43677</td>\n",
       "      <td>01598611 - Name unavailable</td>\n",
       "      <td>NYU + City Hall Toastmasters</td>\n",
       "      <td>New York</td>\n",
       "    </tr>\n",
       "    <tr>\n",
       "      <th>4</th>\n",
       "      <td>735</td>\n",
       "      <td>F</td>\n",
       "      <td>66</td>\n",
       "      <td>LDREXC</td>\n",
       "      <td>43661</td>\n",
       "      <td>01598611 - Name unavailable</td>\n",
       "      <td>NYU + City Hall Toastmasters</td>\n",
       "      <td>New York</td>\n",
       "    </tr>\n",
       "    <tr>\n",
       "      <th>...</th>\n",
       "      <td>...</td>\n",
       "      <td>...</td>\n",
       "      <td>...</td>\n",
       "      <td>...</td>\n",
       "      <td>...</td>\n",
       "      <td>...</td>\n",
       "      <td>...</td>\n",
       "      <td>...</td>\n",
       "    </tr>\n",
       "    <tr>\n",
       "      <th>754</th>\n",
       "      <td>7315453</td>\n",
       "      <td>C</td>\n",
       "      <td>32</td>\n",
       "      <td>IP1</td>\n",
       "      <td>43792</td>\n",
       "      <td>Standish, Louis</td>\n",
       "      <td>French/Bilingual Toastmasters of New York</td>\n",
       "      <td>New York</td>\n",
       "    </tr>\n",
       "    <tr>\n",
       "      <th>755</th>\n",
       "      <td>7315453</td>\n",
       "      <td>C</td>\n",
       "      <td>32</td>\n",
       "      <td>VC1</td>\n",
       "      <td>43719</td>\n",
       "      <td>Dunford, Stephen</td>\n",
       "      <td>French/Bilingual Toastmasters of New York</td>\n",
       "      <td>New York</td>\n",
       "    </tr>\n",
       "    <tr>\n",
       "      <th>756</th>\n",
       "      <td>7315453</td>\n",
       "      <td>C</td>\n",
       "      <td>32</td>\n",
       "      <td>DL1</td>\n",
       "      <td>43805</td>\n",
       "      <td>03381293 - Name unavailable</td>\n",
       "      <td>French/Bilingual Toastmasters of New York</td>\n",
       "      <td>New York</td>\n",
       "    </tr>\n",
       "    <tr>\n",
       "      <th>757</th>\n",
       "      <td>7327389</td>\n",
       "      <td>E</td>\n",
       "      <td>52</td>\n",
       "      <td>EC1</td>\n",
       "      <td>43692</td>\n",
       "      <td>Emerson, Lawrence</td>\n",
       "      <td>Synechron NY Toastmasters</td>\n",
       "      <td>New York</td>\n",
       "    </tr>\n",
       "    <tr>\n",
       "      <th>758</th>\n",
       "      <td>7376563</td>\n",
       "      <td>D</td>\n",
       "      <td>45</td>\n",
       "      <td>DTM</td>\n",
       "      <td>43767</td>\n",
       "      <td>Tawi, Osama</td>\n",
       "      <td>Dewan Shai</td>\n",
       "      <td>New York</td>\n",
       "    </tr>\n",
       "  </tbody>\n",
       "</table>\n",
       "<p>759 rows × 8 columns</p>\n",
       "</div>"
      ],
      "text/plain": [
       "        Club Division  Area   Award   Date                       Member  \\\n",
       "0        451        E    56     PM2  43657           Rajagopalan, Vidya   \n",
       "1        735        F    66     ACS  43657  01598611 - Name unavailable   \n",
       "2        735        F    66     ALS  43670  01598611 - Name unavailable   \n",
       "3        735        F    66     MS1  43677  01598611 - Name unavailable   \n",
       "4        735        F    66  LDREXC  43661  01598611 - Name unavailable   \n",
       "..       ...      ...   ...     ...    ...                          ...   \n",
       "754  7315453        C    32     IP1  43792              Standish, Louis   \n",
       "755  7315453        C    32     VC1  43719             Dunford, Stephen   \n",
       "756  7315453        C    32     DL1  43805  03381293 - Name unavailable   \n",
       "757  7327389        E    52     EC1  43692            Emerson, Lawrence   \n",
       "758  7376563        D    45     DTM  43767                  Tawi, Osama   \n",
       "\n",
       "                                          Name  Location  \n",
       "0                               Metro New York  New York  \n",
       "1                 NYU + City Hall Toastmasters  New York  \n",
       "2                 NYU + City Hall Toastmasters  New York  \n",
       "3                 NYU + City Hall Toastmasters  New York  \n",
       "4                 NYU + City Hall Toastmasters  New York  \n",
       "..                                         ...       ...  \n",
       "754  French/Bilingual Toastmasters of New York  New York  \n",
       "755  French/Bilingual Toastmasters of New York  New York  \n",
       "756  French/Bilingual Toastmasters of New York  New York  \n",
       "757                  Synechron NY Toastmasters  New York  \n",
       "758                                 Dewan Shai  New York  \n",
       "\n",
       "[759 rows x 8 columns]"
      ]
     },
     "execution_count": 6,
     "metadata": {},
     "output_type": "execute_result"
    }
   ],
   "source": [
    "TM"
   ]
  },
  {
   "cell_type": "code",
   "execution_count": 7,
   "metadata": {},
   "outputs": [
    {
     "data": {
      "text/html": [
       "<div>\n",
       "<style scoped>\n",
       "    .dataframe tbody tr th:only-of-type {\n",
       "        vertical-align: middle;\n",
       "    }\n",
       "\n",
       "    .dataframe tbody tr th {\n",
       "        vertical-align: top;\n",
       "    }\n",
       "\n",
       "    .dataframe thead th {\n",
       "        text-align: right;\n",
       "    }\n",
       "</style>\n",
       "<table border=\"1\" class=\"dataframe\">\n",
       "  <thead>\n",
       "    <tr style=\"text-align: right;\">\n",
       "      <th></th>\n",
       "      <th>Club</th>\n",
       "      <th>Division</th>\n",
       "      <th>Area</th>\n",
       "      <th>Award</th>\n",
       "      <th>Date</th>\n",
       "      <th>Member</th>\n",
       "      <th>Name</th>\n",
       "      <th>Location</th>\n",
       "    </tr>\n",
       "  </thead>\n",
       "  <tbody>\n",
       "    <tr>\n",
       "      <th>0</th>\n",
       "      <td>451</td>\n",
       "      <td>E</td>\n",
       "      <td>56</td>\n",
       "      <td>PM2</td>\n",
       "      <td>43657</td>\n",
       "      <td>Rajagopalan, Vidya</td>\n",
       "      <td>Metro New York</td>\n",
       "      <td>New York</td>\n",
       "    </tr>\n",
       "    <tr>\n",
       "      <th>1</th>\n",
       "      <td>735</td>\n",
       "      <td>F</td>\n",
       "      <td>66</td>\n",
       "      <td>ACS</td>\n",
       "      <td>43657</td>\n",
       "      <td>01598611 - Name unavailable</td>\n",
       "      <td>NYU + City Hall Toastmasters</td>\n",
       "      <td>New York</td>\n",
       "    </tr>\n",
       "    <tr>\n",
       "      <th>2</th>\n",
       "      <td>735</td>\n",
       "      <td>F</td>\n",
       "      <td>66</td>\n",
       "      <td>ALS</td>\n",
       "      <td>43670</td>\n",
       "      <td>01598611 - Name unavailable</td>\n",
       "      <td>NYU + City Hall Toastmasters</td>\n",
       "      <td>New York</td>\n",
       "    </tr>\n",
       "    <tr>\n",
       "      <th>3</th>\n",
       "      <td>735</td>\n",
       "      <td>F</td>\n",
       "      <td>66</td>\n",
       "      <td>MS1</td>\n",
       "      <td>43677</td>\n",
       "      <td>01598611 - Name unavailable</td>\n",
       "      <td>NYU + City Hall Toastmasters</td>\n",
       "      <td>New York</td>\n",
       "    </tr>\n",
       "    <tr>\n",
       "      <th>4</th>\n",
       "      <td>735</td>\n",
       "      <td>F</td>\n",
       "      <td>66</td>\n",
       "      <td>LDREXC</td>\n",
       "      <td>43661</td>\n",
       "      <td>01598611 - Name unavailable</td>\n",
       "      <td>NYU + City Hall Toastmasters</td>\n",
       "      <td>New York</td>\n",
       "    </tr>\n",
       "  </tbody>\n",
       "</table>\n",
       "</div>"
      ],
      "text/plain": [
       "   Club Division  Area   Award   Date                       Member  \\\n",
       "0   451        E    56     PM2  43657           Rajagopalan, Vidya   \n",
       "1   735        F    66     ACS  43657  01598611 - Name unavailable   \n",
       "2   735        F    66     ALS  43670  01598611 - Name unavailable   \n",
       "3   735        F    66     MS1  43677  01598611 - Name unavailable   \n",
       "4   735        F    66  LDREXC  43661  01598611 - Name unavailable   \n",
       "\n",
       "                           Name  Location  \n",
       "0                Metro New York  New York  \n",
       "1  NYU + City Hall Toastmasters  New York  \n",
       "2  NYU + City Hall Toastmasters  New York  \n",
       "3  NYU + City Hall Toastmasters  New York  \n",
       "4  NYU + City Hall Toastmasters  New York  "
      ]
     },
     "execution_count": 7,
     "metadata": {},
     "output_type": "execute_result"
    }
   ],
   "source": [
    "TM.head()"
   ]
  },
  {
   "cell_type": "code",
   "execution_count": 8,
   "metadata": {},
   "outputs": [
    {
     "data": {
      "text/plain": [
       "(759, 8)"
      ]
     },
     "execution_count": 8,
     "metadata": {},
     "output_type": "execute_result"
    }
   ],
   "source": [
    "TM.shape"
   ]
  },
  {
   "cell_type": "code",
   "execution_count": 10,
   "metadata": {},
   "outputs": [],
   "source": [
    "sorted_by_award = TM.sort_values(['Award'], ascending=False)"
   ]
  },
  {
   "cell_type": "code",
   "execution_count": 11,
   "metadata": {},
   "outputs": [
    {
     "data": {
      "text/plain": [
       "373    VC5\n",
       "241    VC5\n",
       "126    VC5\n",
       "87     VC5\n",
       "409    VC4\n",
       "Name: Award, dtype: object"
      ]
     },
     "execution_count": 11,
     "metadata": {},
     "output_type": "execute_result"
    }
   ],
   "source": [
    "sorted_by_award[\"Award\"].head(5)"
   ]
  },
  {
   "cell_type": "code",
   "execution_count": 12,
   "metadata": {},
   "outputs": [],
   "source": [
    "import matplotlib.pyplot as plt"
   ]
  },
  {
   "cell_type": "code",
   "execution_count": 16,
   "metadata": {},
   "outputs": [
    {
     "data": {
      "image/png": "[encoded data removed]",
      "text/plain": [
       "<Figure size 432x288 with 1 Axes>"
      ]
     },
     "metadata": {
      "needs_background": "light"
     },
     "output_type": "display_data"
    }
   ],
   "source": [
    "sorted_by_award['Award'].value_counts()[:10].plot(kind='barh')\n",
    "plt.show()"
   ]
  },
  {
   "cell_type": "code",
   "execution_count": 18,
   "metadata": {},
   "outputs": [
    {
     "data": {
      "image/png": "[encoded data removed]",
      "text/plain": [
       "<Figure size 432x288 with 1 Axes>"
      ]
     },
     "metadata": {
      "needs_background": "light"
     },
     "output_type": "display_data"
    }
   ],
   "source": [
    "sorted_by_award['Award'].str[0].value_counts()[:10].plot(kind='barh')\n",
    "plt.show()"
   ]
  },
  {
   "cell_type": "code",
   "execution_count": 25,
   "metadata": {},
   "outputs": [
    {
     "data": {
      "image/png": "[encoded data removed]",
      "text/plain": [
       "<Figure size 432x288 with 1 Axes>"
      ]
     },
     "metadata": {
      "needs_background": "light"
     },
     "output_type": "display_data"
    }
   ],
   "source": [
    "sorted_by_award['Award'].str[0:2].value_counts()[:10].plot(kind='barh')\n",
    "plt.show()"
   ]
  },
  {
   "cell_type": "code",
   "execution_count": 27,
   "metadata": {},
   "outputs": [
    {
     "data": {
      "image/png": "[encoded data removed]",
      "text/plain": [
       "<Figure size 432x288 with 1 Axes>"
      ]
     },
     "metadata": {},
     "output_type": "display_data"
    }
   ],
   "source": [
    "sorted_by_award['Award'].str[0:2].value_counts()[:].plot(kind='pie')\n",
    "plt.show()"
   ]
  },
  {
   "cell_type": "code",
   "execution_count": null,
   "metadata": {},
   "outputs": [],
   "source": []
  },
  {
   "cell_type": "code",
   "execution_count": null,
   "metadata": {},
   "outputs": [],
   "source": []
  },
  {
   "cell_type": "code",
   "execution_count": null,
   "metadata": {},
   "outputs": [],
   "source": []
  },
  {
   "cell_type": "code",
   "execution_count": null,
   "metadata": {},
   "outputs": [],
   "source": []
  },
  {
   "cell_type": "code",
   "execution_count": null,
   "metadata": {},
   "outputs": [],
   "source": []
  },
  {
   "cell_type": "code",
   "execution_count": null,
   "metadata": {},
   "outputs": [],
   "source": []
  },
  {
   "cell_type": "code",
   "execution_count": null,
   "metadata": {},
   "outputs": [],
   "source": []
  },
  {
   "cell_type": "code",
   "execution_count": null,
   "metadata": {},
   "outputs": [],
   "source": []
  },
  {
   "cell_type": "code",
   "execution_count": null,
   "metadata": {},
   "outputs": [],
   "source": []
  },
  {
   "cell_type": "code",
   "execution_count": null,
   "metadata": {},
   "outputs": [],
   "source": []
  },
  {
   "cell_type": "code",
   "execution_count": null,
   "metadata": {},
   "outputs": [],
   "source": []
  },
  {
   "cell_type": "code",
   "execution_count": null,
   "metadata": {},
   "outputs": [],
   "source": []
  }
 ],
 "metadata": {
  "kernelspec": {
   "display_name": "Python 3",
   "language": "python",
   "name": "python3"
  },
  "language_info": {
   "codemirror_mode": {
    "name": "ipython",
    "version": 3
   },
   "file_extension": ".py",
   "mimetype": "text/x-python",
   "name": "python",
   "nbconvert_exporter": "python",
   "pygments_lexer": "ipython3",
   "version": "3.7.3"
  }
 },
 "nbformat": 4,
 "nbformat_minor": 4
}
